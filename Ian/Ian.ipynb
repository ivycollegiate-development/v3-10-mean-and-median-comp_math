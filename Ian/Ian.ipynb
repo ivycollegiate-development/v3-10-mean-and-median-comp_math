{
 "cells": [
  {
   "cell_type": "code",
   "execution_count": 2,
   "metadata": {},
   "outputs": [
    {
     "data": {
      "text/plain": [
       "523.3333333333334"
      ]
     },
     "execution_count": 2,
     "metadata": {},
     "output_type": "execute_result"
    }
   ],
   "source": [
    "def calculate_mean(numbers):\n",
    "    #validate the input \n",
    "    if not numbers: \n",
    "        raise ValueError(\"Cannot calculate mean of an empty list\")\n",
    "    #calculate the sum of all the numbers\n",
    "    total = sum(numbers)\n",
    "    \n",
    "    #count the number of items \n",
    "    count = len(numbers)\n",
    "\n",
    "    #Calculate the mean \n",
    "    mean = total/count\n",
    "    return mean\n",
    "calculate_mean([85, 92, 78, 90, 95, 88, 76, 85])\n",
    "calculate_mean( [72, 68, 75, 80, 65, 70, 73] )\n",
    "calculate_mean([500, 450, 600, 525, 575, 490] )"
   ]
  }
 ],
 "metadata": {
  "kernelspec": {
   "display_name": "Python 3",
   "language": "python",
   "name": "python3"
  },
  "language_info": {
   "codemirror_mode": {
    "name": "ipython",
    "version": 3
   },
   "file_extension": ".py",
   "mimetype": "text/x-python",
   "name": "python",
   "nbconvert_exporter": "python",
   "pygments_lexer": "ipython3",
   "version": "3.12.1"
  }
 },
 "nbformat": 4,
 "nbformat_minor": 2
}
