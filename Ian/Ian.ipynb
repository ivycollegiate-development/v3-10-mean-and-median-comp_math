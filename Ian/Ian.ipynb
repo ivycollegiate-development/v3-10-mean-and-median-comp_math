{
 "cells": [
  {
   "cell_type": "code",
   "execution_count": null,
   "metadata": {},
   "outputs": [],
   "source": [
    "def calculate_mean(numbers):\n",
    "    #validate the input \n",
    "    if not numbers: \n",
    "        raise ValueError(\"Cannot calculate mean of an empty list\")\n",
    "    #calculate the sum of all the numbers\n",
    "    total = sum(numbers)\n",
    "    \n",
    "    #count the number of items \n",
    "    count = len(numbers)\n",
    "\n",
    "    #Calculate the mean \n",
    "    mean = total/count\n"
   ]
  }
 ],
 "metadata": {
  "kernelspec": {
   "display_name": "Python 3",
   "language": "python",
   "name": "python3"
  },
  "language_info": {
   "name": "python",
   "version": "3.12.1"
  }
 },
 "nbformat": 4,
 "nbformat_minor": 2
}
