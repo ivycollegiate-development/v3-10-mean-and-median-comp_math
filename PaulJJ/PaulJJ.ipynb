{
 "cells": [
  {
   "cell_type": "code",
   "execution_count": null,
   "metadata": {},
   "outputs": [],
   "source": [
    "def calculate_mean(numbers):\n",
    "        \n",
    "\n",
    "if not numbers:\n",
    "            raise ValueError(\"Cannot calculate mean of an empty list\")\n",
    "total = sum(numbers)\n",
    "count = len(numbers)\n",
    "mean = total / count\n",
    "return mean"
   ]
  }
 ],
 "metadata": {
  "kernelspec": {
   "display_name": "Python 3",
   "language": "python",
   "name": "python3"
  },
  "language_info": {
   "codemirror_mode": {
    "name": "ipython",
    "version": 3
   },
   "file_extension": ".py",
   "mimetype": "text/x-python",
   "name": "python",
   "nbconvert_exporter": "python",
   "pygments_lexer": "ipython3",
   "version": "3.12.1"
  }
 },
 "nbformat": 4,
 "nbformat_minor": 2
}
