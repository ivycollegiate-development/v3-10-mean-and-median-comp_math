{
 "cells": [
  {
   "cell_type": "code",
   "execution_count": null,
   "metadata": {},
   "outputs": [
    {
     "data": {
      "text/plain": [
       "86.125"
      ]
     },
     "execution_count": 6,
     "metadata": {},
     "output_type": "execute_result"
    }
   ],
   "source": [
    "def calculate_mean(numbers):\n",
    "    #validate the input \n",
    "    if not numbers: \n",
    "        raise ValueError(\"Cannot calculate mean of an empty list\")\n",
    "    #calculate the sum of all the numbers\n",
    "    total = sum(numbers)\n",
    "    \n",
    "    #count the number of items \n",
    "    count = len(numbers)\n",
    "\n",
    "    #Calculate the mean \n",
    "    mean = total/count\n",
    "    return mean\n",
    "Student_Test_Scores=[85, 92, 78, 90, 95, 88, 76, 85] \n",
    "Daily_Temperature_Readings=[72, 68, 75, 80, 65, 70, 73] \n",
    "Monthly_Savings=[500, 450, 600, 525, 575, 490]\n"
   ]
  },
  {
   "cell_type": "code",
   "execution_count": null,
   "metadata": {},
   "outputs": [],
   "source": [
    "def calculate_median(numbers):\n",
    "    # TODO: Implement median calculation function\n",
    "    #create a sorted list of the values \n",
    "    sorted_numbers = sorted(numbers)\n",
    "    #get the length of the list \n",
    "    n = len(sorted_numbers)\n",
    "    #if the number of a element is even \n",
    "    if n%2 != 0:\n",
    "        #find the middle position using the interger division operator\n",
    "        mid = n//2\n",
    "        return sorted_numbers[mid]\n",
    "    else:\n",
    "        #find the two middle positions \n",
    "        mid1 = n//2 -1\n",
    "        mid2 = n//2 \n",
    "        #calculate the adverage of the two values \n",
    "        return (sorted_numbers(mid1)+sorted_numbers(mid2))/2\n"
   ]
  }
 ],
 "metadata": {
  "kernelspec": {
   "display_name": "Python 3",
   "language": "python",
   "name": "python3"
  },
  "language_info": {
   "codemirror_mode": {
    "name": "ipython",
    "version": 3
   },
   "file_extension": ".py",
   "mimetype": "text/x-python",
   "name": "python",
   "nbconvert_exporter": "python",
   "pygments_lexer": "ipython3",
   "version": "3.12.1"
  }
 },
 "nbformat": 4,
 "nbformat_minor": 2
}
