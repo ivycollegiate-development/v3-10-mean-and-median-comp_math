{
 "cells": [
  {
   "cell_type": "code",
   "execution_count": null,
   "metadata": {},
   "outputs": [],
   "source": [
    "def calculate_mean(numbers):\n",
    "    \"\"\"\n",
    "    Calculate the mean of a list of numbers\n",
    "\n",
    "    Args:\n",
    "    numbers (list): List of number values\n",
    "\n",
    "    Returns:\n",
    "    float: The mean of the input numbers\n",
    "    \"\"\"\n",
    "    # Calculates the sum of all of the numbers\n",
    "    total = sum(numbers)\n",
    "\n",
    "    # Count the number of items\n",
    "    count = len(numbers)\n",
    "\n",
    "    # Calculate the mean or adverage\n",
    "    mean = total / count\n",
    "    return mean"
   ]
  }
 ],
 "metadata": {
  "kernelspec": {
   "display_name": "Python 3",
   "language": "python",
   "name": "python3"
  },
  "language_info": {
   "name": "python",
   "version": "3.12.1"
  }
 },
 "nbformat": 4,
 "nbformat_minor": 2
}
