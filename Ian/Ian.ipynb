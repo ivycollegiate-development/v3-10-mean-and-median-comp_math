{
 "cells": [
  {
   "cell_type": "code",
   "execution_count": null,
   "metadata": {},
   "outputs": [
    {
     "data": {
      "text/plain": [
       "86.125"
      ]
     },
     "execution_count": 6,
     "metadata": {},
     "output_type": "execute_result"
    }
   ],
   "source": [
    "def calculate_mean(numbers):\n",
    "    #validate the input \n",
    "    if not numbers: \n",
    "        raise ValueError(\"Cannot calculate mean of an empty list\")\n",
    "    #calculate the sum of all the numbers\n",
    "    total = sum(numbers)\n",
    "    \n",
    "    #count the number of items \n",
    "    count = len(numbers)\n",
    "\n",
    "    #Calculate the mean \n",
    "    mean = total/count\n",
    "    return mean\n",
    "Student_Test_Scores=[85, 92, 78, 90, 95, 88, 76, 85] \n",
    "Daily_Temperature_Readings=[72, 68, 75, 80, 65, 70, 73] \n",
    "Monthly_Savings=[500, 450, 600, 525, 575, 490]\n"
   ]
  },
  {
   "cell_type": "code",
   "execution_count": 2,
   "metadata": {},
   "outputs": [
    {
     "ename": "TypeError",
     "evalue": "'list' object is not callable",
     "output_type": "error",
     "traceback": [
      "\u001b[0;31m---------------------------------------------------------------------------\u001b[0m",
      "\u001b[0;31mTypeError\u001b[0m                                 Traceback (most recent call last)",
      "Cell \u001b[0;32mIn[2], line 22\u001b[0m\n\u001b[1;32m     20\u001b[0m daily_temperature_readings \u001b[38;5;241m=\u001b[39m [\u001b[38;5;241m72\u001b[39m, \u001b[38;5;241m68\u001b[39m, \u001b[38;5;241m75\u001b[39m, \u001b[38;5;241m80\u001b[39m, \u001b[38;5;241m65\u001b[39m, \u001b[38;5;241m70\u001b[39m, \u001b[38;5;241m73\u001b[39m]\n\u001b[1;32m     21\u001b[0m monthly_savings \u001b[38;5;241m=\u001b[39m [\u001b[38;5;241m500\u001b[39m, \u001b[38;5;241m450\u001b[39m, \u001b[38;5;241m600\u001b[39m, \u001b[38;5;241m525\u001b[39m, \u001b[38;5;241m575\u001b[39m, \u001b[38;5;241m490\u001b[39m]\n\u001b[0;32m---> 22\u001b[0m median_student_test_score \u001b[38;5;241m=\u001b[39m \u001b[43mcalculate_median\u001b[49m\u001b[43m(\u001b[49m\u001b[43m[\u001b[49m\u001b[38;5;241;43m85\u001b[39;49m\u001b[43m,\u001b[49m\u001b[43m \u001b[49m\u001b[38;5;241;43m92\u001b[39;49m\u001b[43m,\u001b[49m\u001b[43m \u001b[49m\u001b[38;5;241;43m78\u001b[39;49m\u001b[43m,\u001b[49m\u001b[43m \u001b[49m\u001b[38;5;241;43m90\u001b[39;49m\u001b[43m,\u001b[49m\u001b[43m \u001b[49m\u001b[38;5;241;43m95\u001b[39;49m\u001b[43m,\u001b[49m\u001b[43m \u001b[49m\u001b[38;5;241;43m88\u001b[39;49m\u001b[43m,\u001b[49m\u001b[43m \u001b[49m\u001b[38;5;241;43m76\u001b[39;49m\u001b[43m,\u001b[49m\u001b[43m \u001b[49m\u001b[38;5;241;43m85\u001b[39;49m\u001b[43m]\u001b[49m\n\u001b[1;32m     23\u001b[0m \u001b[43m)\u001b[49m\n\u001b[1;32m     24\u001b[0m median_daily_temperature_readings \u001b[38;5;241m=\u001b[39m calculate_median([\u001b[38;5;241m72\u001b[39m, \u001b[38;5;241m68\u001b[39m, \u001b[38;5;241m75\u001b[39m, \u001b[38;5;241m80\u001b[39m, \u001b[38;5;241m65\u001b[39m, \u001b[38;5;241m70\u001b[39m, \u001b[38;5;241m73\u001b[39m]\n\u001b[1;32m     25\u001b[0m )\n\u001b[1;32m     26\u001b[0m median_monthly_saving \u001b[38;5;241m=\u001b[39m calculate_median([\u001b[38;5;241m500\u001b[39m, \u001b[38;5;241m450\u001b[39m, \u001b[38;5;241m600\u001b[39m, \u001b[38;5;241m525\u001b[39m, \u001b[38;5;241m575\u001b[39m, \u001b[38;5;241m490\u001b[39m]\n\u001b[1;32m     27\u001b[0m )\n",
      "Cell \u001b[0;32mIn[2], line 17\u001b[0m, in \u001b[0;36mcalculate_median\u001b[0;34m(numbers)\u001b[0m\n\u001b[1;32m     15\u001b[0m mid2 \u001b[38;5;241m=\u001b[39m n\u001b[38;5;241m/\u001b[39m\u001b[38;5;241m/\u001b[39m\u001b[38;5;241m2\u001b[39m \n\u001b[1;32m     16\u001b[0m \u001b[38;5;66;03m#calculate the adverage of the two values \u001b[39;00m\n\u001b[0;32m---> 17\u001b[0m \u001b[38;5;28;01mreturn\u001b[39;00m (\u001b[43msorted_numbers\u001b[49m\u001b[43m(\u001b[49m\u001b[43mmid1\u001b[49m\u001b[43m)\u001b[49m\u001b[38;5;241m+\u001b[39msorted_numbers(mid2))\u001b[38;5;241m/\u001b[39m\u001b[38;5;241m2\u001b[39m\n",
      "\u001b[0;31mTypeError\u001b[0m: 'list' object is not callable"
     ]
    }
   ],
   "source": [
    "def calculate_median(numbers):\n",
    "    # TODO: Implement median calculation function\n",
    "    #create a sorted list of the values \n",
    "    sorted_numbers = sorted(numbers)\n",
    "    #get the length of the list \n",
    "    n = len(sorted_numbers)\n",
    "    #if the number of a element is even \n",
    "    if n%2 != 0:\n",
    "        #find the middle position using the interger division operator\n",
    "        mid = n//2\n",
    "        return sorted_numbers[mid]\n",
    "    else:\n",
    "        #find the two middle positions \n",
    "        mid1 = n//2 -1\n",
    "        mid2 = n//2 \n",
    "        #calculate the adverage of the two values \n",
    "        return (sorted_numbers(mid1)+sorted_numbers(mid2))/2\n",
    "# Datasets\n",
    "student_test_scores = [85, 92, 78, 90, 95, 88, 76, 85]\n",
    "daily_temperature_readings = [72, 68, 75, 80, 65, 70, 73]\n",
    "monthly_savings = [500, 450, 600, 525, 575, 490]\n",
    "median_student_test_score = calculate_median([85, 92, 78, 90, 95, 88, 76, 85]\n",
    ")\n",
    "median_daily_temperature_readings = calculate_median([72, 68, 75, 80, 65, 70, 73]\n",
    ")\n",
    "median_monthly_saving = calculate_median([500, 450, 600, 525, 575, 490]\n",
    ")\n",
    "print(median_daily_temperature_readings, median_monthly_saving, median_student_test_score)"
   ]
  }
 ],
 "metadata": {
  "kernelspec": {
   "display_name": "Python 3",
   "language": "python",
   "name": "python3"
  },
  "language_info": {
   "codemirror_mode": {
    "name": "ipython",
    "version": 3
   },
   "file_extension": ".py",
   "mimetype": "text/x-python",
   "name": "python",
   "nbconvert_exporter": "python",
   "pygments_lexer": "ipython3",
   "version": "3.12.1"
  }
 },
 "nbformat": 4,
 "nbformat_minor": 2
}
