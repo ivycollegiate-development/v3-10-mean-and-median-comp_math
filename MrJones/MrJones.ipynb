{
 "cells": [
  {
   "cell_type": "code",
   "execution_count": 1,
   "metadata": {},
   "outputs": [
    {
     "name": "stdout",
     "output_type": "stream",
     "text": [
      "86.125 71.85714285714286 523.3333333333334\n"
     ]
    }
   ],
   "source": [
    "def calculate_mean(numbers):\n",
    "    \"\"\"\n",
    "    Calculate the mean of a list of numbers\n",
    "    Args:\n",
    "    numbers (list): List of number values\n",
    "    Returns:\n",
    "    float: The mean of the input numbers\n",
    "    \"\"\"\n",
    "    # Validate the input is not empty\n",
    "    if not numbers:\n",
    "        raise ValueError(\"Cannot calculate mean of an empty list\")\n",
    "    # Calculates the sum of all of the numbers\n",
    "    total = sum(numbers)\n",
    "    # Count the number of items\n",
    "    count = len(numbers)\n",
    "    # Calculate the mean or adverage\n",
    "    mean = total / count\n",
    "    return mean\n",
    "\"\"\"\n",
    "For each dataset below, calculate the mean:\n",
    "Student Test Scores: [85, 92, 78, 90, 95, 88, 76, 85] \t\tMean: ________________\n",
    "Daily Temperature Readings: [72, 68, 75, 80, 65, 70, 73] \t\tMean: ________________\n",
    "Monthly Savings: [500, 450, 600, 525, 575, 490] \t\t\tMean: ________________    \n",
    "\"\"\"\n",
    "# Datasets\n",
    "student_test_scores = [85, 92, 78, 90, 95, 88, 76, 85]\n",
    "daily_temperature_readings = [72, 68, 75, 80, 65, 70, 73]\n",
    "monthly_savings = [500, 450, 600, 525, 575, 490]\n",
    "\n",
    "# Perform the calculations\n",
    "mean_student_test_scores = calculate_mean(student_test_scores)\n",
    "mean_daily_temperature_readings = calculate_mean(daily_temperature_readings)\n",
    "mean_monthly_savings = calculate_mean(monthly_savings)\n",
    "\n",
    "print(mean_student_test_scores, mean_daily_temperature_readings, mean_monthly_savings)"
   ]
  },
  {
   "cell_type": "code",
   "execution_count": null,
   "metadata": {},
   "outputs": [],
   "source": [
    "def calculate_median(numbers):\n",
    "    \"\"\"\n",
    "    Calculate the median of a list of numbers\n",
    "    Args:\n",
    "    numbers (list): List of number values\n",
    "    Returns:\n",
    "    float: The median of the input numbers\n",
    "    \"\"\"\n",
    "    "
   ]
  }
 ],
 "metadata": {
  "kernelspec": {
   "display_name": "Python 3",
   "language": "python",
   "name": "python3"
  },
  "language_info": {
   "codemirror_mode": {
    "name": "ipython",
    "version": 3
   },
   "file_extension": ".py",
   "mimetype": "text/x-python",
   "name": "python",
   "nbconvert_exporter": "python",
   "pygments_lexer": "ipython3",
   "version": "3.12.1"
  }
 },
 "nbformat": 4,
 "nbformat_minor": 2
}
